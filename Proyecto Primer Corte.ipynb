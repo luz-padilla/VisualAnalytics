{
 "cells": [
  {
   "cell_type": "markdown",
   "metadata": {},
   "source": [
    "# Proyecto Primer Corte <a class=\"tocSkip\">\n",
    "\n",
    "Por Luz Rodriguez, David Benavides y Freddy Martinez\n",
    "\n",
    "version 0.1, Marzo 2021"
   ]
  },
  {
   "cell_type": "markdown",
   "metadata": {},
   "source": [
    "## Importar librerias"
   ]
  },
  {
   "cell_type": "code",
   "execution_count": 140,
   "metadata": {},
   "outputs": [],
   "source": [
    "import pandas as pd\n",
    "import numpy as np\n",
    "import datetime as dt\n",
    "from datetime import datetime\n",
    "pd.set_option('display.max_columns', None)\n",
    "import seaborn as sns\n",
    "import matplotlib as cm\n",
    "import matplotlib.pyplot as plt\n",
    "import altair as alt\n",
    "from vega_datasets import data\n",
    "from math import log10"
   ]
  },
  {
   "cell_type": "markdown",
   "metadata": {},
   "source": [
    "# Importar datos\n",
    "\n",
    "Datos extraídos de la fuente 'Datos.gob.ar'\n",
    "\n",
    "Fecha creación: 25 de septiembre de 2020\n",
    "\n",
    "Datos actualizados por última vez: 12 de febrero de 2021\n",
    "\n",
    "Fuente: [Datos.gob.ar](https://datos.gob.ar/dataset/justicia-linea-137---victimas-violencia-familiar---llamados-e-intervenciones-domiciliarias/archivo/justicia_21b615fc-001d-43d1-9396-e61f804a32cc) "
   ]
  },
  {
   "cell_type": "code",
   "execution_count": 14,
   "metadata": {},
   "outputs": [
    {
     "data": {
      "text/html": [
       "<div>\n",
       "<style scoped>\n",
       "    .dataframe tbody tr th:only-of-type {\n",
       "        vertical-align: middle;\n",
       "    }\n",
       "\n",
       "    .dataframe tbody tr th {\n",
       "        vertical-align: top;\n",
       "    }\n",
       "\n",
       "    .dataframe thead th {\n",
       "        text-align: right;\n",
       "    }\n",
       "</style>\n",
       "<table border=\"1\" class=\"dataframe\">\n",
       "  <thead>\n",
       "    <tr style=\"text-align: right;\">\n",
       "      <th></th>\n",
       "      <th>caso_id</th>\n",
       "      <th>llamante_descripcion</th>\n",
       "      <th>llamante_genero</th>\n",
       "      <th>llamante_vinculo_ninios_presentes</th>\n",
       "      <th>violencia_tipo</th>\n",
       "      <th>victima_edad</th>\n",
       "      <th>victima_rango_etario</th>\n",
       "      <th>victima_genero</th>\n",
       "      <th>victima_cantidad</th>\n",
       "      <th>agresor_cantidad</th>\n",
       "      <th>agresor_genero</th>\n",
       "      <th>agresor_relacion_victima</th>\n",
       "      <th>llamado_derivacion</th>\n",
       "      <th>llamado_fecha_hora</th>\n",
       "      <th>llamado_provincia</th>\n",
       "      <th>llamado_provincia_id</th>\n",
       "    </tr>\n",
       "  </thead>\n",
       "  <tbody>\n",
       "    <tr>\n",
       "      <th>0</th>\n",
       "      <td>344552.0</td>\n",
       "      <td>Comisaría</td>\n",
       "      <td>Masculino</td>\n",
       "      <td>Otra/o no familiar</td>\n",
       "      <td>Física y psicológica</td>\n",
       "      <td>27</td>\n",
       "      <td>18 a 29 años</td>\n",
       "      <td>Femenino</td>\n",
       "      <td>3</td>\n",
       "      <td>1</td>\n",
       "      <td>Masculino</td>\n",
       "      <td>Pareja</td>\n",
       "      <td>La víctima no aceptó la intervención del Equip...</td>\n",
       "      <td>2017-01-01 01:37:00</td>\n",
       "      <td>Ciudad Autónoma de Buenos Aires</td>\n",
       "      <td>2</td>\n",
       "    </tr>\n",
       "    <tr>\n",
       "      <th>1</th>\n",
       "      <td>344553.0</td>\n",
       "      <td>Comisaría</td>\n",
       "      <td>Femenino</td>\n",
       "      <td>Sin datos</td>\n",
       "      <td>Física y psicológica</td>\n",
       "      <td>Sin dato</td>\n",
       "      <td>Sin dato</td>\n",
       "      <td>Femenino</td>\n",
       "      <td>2</td>\n",
       "      <td>1</td>\n",
       "      <td>Masculino</td>\n",
       "      <td>Hermano/a</td>\n",
       "      <td>Llamante solicitó información y/o orientación</td>\n",
       "      <td>2017-01-01 06:42:00</td>\n",
       "      <td>Ciudad Autónoma de Buenos Aires</td>\n",
       "      <td>2</td>\n",
       "    </tr>\n",
       "    <tr>\n",
       "      <th>2</th>\n",
       "      <td>344554.0</td>\n",
       "      <td>Víctima</td>\n",
       "      <td>Femenino</td>\n",
       "      <td>Madre</td>\n",
       "      <td>Física y psicológica</td>\n",
       "      <td>Sin dato</td>\n",
       "      <td>Sin dato</td>\n",
       "      <td>Femenino</td>\n",
       "      <td>1</td>\n",
       "      <td>1</td>\n",
       "      <td>Masculino</td>\n",
       "      <td>Pareja</td>\n",
       "      <td>Llamante solicitó información y/o orientación</td>\n",
       "      <td>2017-01-01 06:48:00</td>\n",
       "      <td>Ciudad Autónoma de Buenos Aires</td>\n",
       "      <td>2</td>\n",
       "    </tr>\n",
       "    <tr>\n",
       "      <th>3</th>\n",
       "      <td>344555.0</td>\n",
       "      <td>Víctima</td>\n",
       "      <td>Femenino</td>\n",
       "      <td>No hay niñas/os</td>\n",
       "      <td>Física y psicológica</td>\n",
       "      <td>Sin dato</td>\n",
       "      <td>Sin dato</td>\n",
       "      <td>Femenino</td>\n",
       "      <td>1</td>\n",
       "      <td>1</td>\n",
       "      <td>Masculino</td>\n",
       "      <td>Pareja</td>\n",
       "      <td>Llamante solicitó información y/o orientación</td>\n",
       "      <td>2017-01-01 06:54:00</td>\n",
       "      <td>Ciudad Autónoma de Buenos Aires</td>\n",
       "      <td>2</td>\n",
       "    </tr>\n",
       "    <tr>\n",
       "      <th>4</th>\n",
       "      <td>344556.0</td>\n",
       "      <td>Comisaría</td>\n",
       "      <td>Masculino</td>\n",
       "      <td>Otra/o no familiar</td>\n",
       "      <td>Psicológica</td>\n",
       "      <td>Sin dato</td>\n",
       "      <td>Sin dato</td>\n",
       "      <td>Masculino</td>\n",
       "      <td>1</td>\n",
       "      <td>1</td>\n",
       "      <td>Femenino</td>\n",
       "      <td>Madre</td>\n",
       "      <td>Llamante solicitó información y/o orientación</td>\n",
       "      <td>2017-01-01 07:11:00</td>\n",
       "      <td>Ciudad Autónoma de Buenos Aires</td>\n",
       "      <td>2</td>\n",
       "    </tr>\n",
       "  </tbody>\n",
       "</table>\n",
       "</div>"
      ],
      "text/plain": [
       "    caso_id llamante_descripcion llamante_genero  \\\n",
       "0  344552.0            Comisaría       Masculino   \n",
       "1  344553.0            Comisaría        Femenino   \n",
       "2  344554.0              Víctima        Femenino   \n",
       "3  344555.0              Víctima        Femenino   \n",
       "4  344556.0            Comisaría       Masculino   \n",
       "\n",
       "  llamante_vinculo_ninios_presentes        violencia_tipo victima_edad  \\\n",
       "0                Otra/o no familiar  Física y psicológica           27   \n",
       "1                         Sin datos  Física y psicológica     Sin dato   \n",
       "2                             Madre  Física y psicológica     Sin dato   \n",
       "3                   No hay niñas/os  Física y psicológica     Sin dato   \n",
       "4                Otra/o no familiar           Psicológica     Sin dato   \n",
       "\n",
       "  victima_rango_etario victima_genero  victima_cantidad  agresor_cantidad  \\\n",
       "0         18 a 29 años       Femenino                 3                 1   \n",
       "1             Sin dato       Femenino                 2                 1   \n",
       "2             Sin dato       Femenino                 1                 1   \n",
       "3             Sin dato       Femenino                 1                 1   \n",
       "4             Sin dato      Masculino                 1                 1   \n",
       "\n",
       "  agresor_genero agresor_relacion_victima  \\\n",
       "0      Masculino                   Pareja   \n",
       "1      Masculino                Hermano/a   \n",
       "2      Masculino                   Pareja   \n",
       "3      Masculino                   Pareja   \n",
       "4       Femenino                    Madre   \n",
       "\n",
       "                                  llamado_derivacion  llamado_fecha_hora  \\\n",
       "0  La víctima no aceptó la intervención del Equip... 2017-01-01 01:37:00   \n",
       "1      Llamante solicitó información y/o orientación 2017-01-01 06:42:00   \n",
       "2      Llamante solicitó información y/o orientación 2017-01-01 06:48:00   \n",
       "3      Llamante solicitó información y/o orientación 2017-01-01 06:54:00   \n",
       "4      Llamante solicitó información y/o orientación 2017-01-01 07:11:00   \n",
       "\n",
       "                 llamado_provincia  llamado_provincia_id  \n",
       "0  Ciudad Autónoma de Buenos Aires                     2  \n",
       "1  Ciudad Autónoma de Buenos Aires                     2  \n",
       "2  Ciudad Autónoma de Buenos Aires                     2  \n",
       "3  Ciudad Autónoma de Buenos Aires                     2  \n",
       "4  Ciudad Autónoma de Buenos Aires                     2  "
      ]
     },
     "execution_count": 14,
     "metadata": {},
     "output_type": "execute_result"
    }
   ],
   "source": [
    "path2 = 'C:/Users/57316/OneDrive/Escritorio/Universidas Santoto/Semestre 8/Visualización de datos Python/GitHub/Visual analytics 2/VisualAnalytics/'\n",
    "datos = pd.read_excel(path2 + 'llamados_violencia_familiar_2017_2021.xlsx', engine = 'openpyxl')\n",
    "datos.head()"
   ]
  },
  {
   "cell_type": "markdown",
   "metadata": {},
   "source": [
    "## Descripción de los datos"
   ]
  },
  {
   "cell_type": "markdown",
   "metadata": {},
   "source": [
    "En esta base de datos se tiene la información de casos reportados de violencia intrafamiliar, en la base encontramos 16 variables con la siguiente información:\n",
    "\n",
    "* caso_id: Id de los casos reportados\n",
    "* llamante_descripcion: Persona que realizo la llamada y reporto el caso de violencia\n",
    "* llamante_genero: Género de la persona que realizo la llamda\n",
    "* llamante_vinculo_ninios_presentes: tipo de vinculo del llamante con la victima\n",
    "* violencia_tipo: Tipo de violencia\n",
    "* victima_edad: Edad de la victima\n",
    "* victima_rango_etario: Rango de edad de la victima\n",
    "* victima_genero: Género de la victima\n",
    "* victima_cantidad: Cantidad de victimas reportadas en el caso\n",
    "* agresor_cantidad: Cantidad de agresores reportadas en el caso\n",
    "* agresor_genero: Género del agresor\n",
    "* agresor_relacion_victima: Relación de la victima con el agresor\n",
    "* llamado_derivacion: Información de la acciones tomadas luego de las llamadas\n",
    "* llamado_fecha_hora: Fecha y hora de la llamada realizada\n",
    "* llamado_provincia: Provincia en la que se origino el llamado\n",
    "* llamado_provincia_id: Id de la provincia en la que se origino el llamado"
   ]
  },
  {
   "cell_type": "code",
   "execution_count": 17,
   "metadata": {},
   "outputs": [
    {
     "data": {
      "text/plain": [
       "caso_id                                     float64\n",
       "llamante_descripcion                         object\n",
       "llamante_genero                              object\n",
       "llamante_vinculo_ninios_presentes            object\n",
       "violencia_tipo                               object\n",
       "victima_edad                                 object\n",
       "victima_rango_etario                         object\n",
       "victima_genero                               object\n",
       "victima_cantidad                              int64\n",
       "agresor_cantidad                              int64\n",
       "agresor_genero                               object\n",
       "agresor_relacion_victima                     object\n",
       "llamado_derivacion                           object\n",
       "llamado_fecha_hora                   datetime64[ns]\n",
       "llamado_provincia                            object\n",
       "llamado_provincia_id                          int64\n",
       "dtype: object"
      ]
     },
     "execution_count": 17,
     "metadata": {},
     "output_type": "execute_result"
    }
   ],
   "source": [
    "datos.dtypes"
   ]
  },
  {
   "cell_type": "code",
   "execution_count": 324,
   "metadata": {},
   "outputs": [],
   "source": [
    "datos1=datos"
   ]
  },
  {
   "cell_type": "code",
   "execution_count": 325,
   "metadata": {},
   "outputs": [],
   "source": [
    "datos1.index=datos1.caso_id"
   ]
  },
  {
   "cell_type": "code",
   "execution_count": 326,
   "metadata": {},
   "outputs": [
    {
     "data": {
      "text/plain": [
       "(35703, 16)"
      ]
     },
     "execution_count": 326,
     "metadata": {},
     "output_type": "execute_result"
    }
   ],
   "source": [
    "datos1.shape"
   ]
  },
  {
   "cell_type": "code",
   "execution_count": 327,
   "metadata": {},
   "outputs": [
    {
     "data": {
      "text/html": [
       "<div>\n",
       "<style scoped>\n",
       "    .dataframe tbody tr th:only-of-type {\n",
       "        vertical-align: middle;\n",
       "    }\n",
       "\n",
       "    .dataframe tbody tr th {\n",
       "        vertical-align: top;\n",
       "    }\n",
       "\n",
       "    .dataframe thead th {\n",
       "        text-align: right;\n",
       "    }\n",
       "</style>\n",
       "<table border=\"1\" class=\"dataframe\">\n",
       "  <thead>\n",
       "    <tr style=\"text-align: right;\">\n",
       "      <th></th>\n",
       "      <th>llamante_descripcion</th>\n",
       "      <th>llamante_genero</th>\n",
       "      <th>llamante_vinculo_ninios_presentes</th>\n",
       "      <th>violencia_tipo</th>\n",
       "      <th>victima_edad</th>\n",
       "      <th>victima_rango_etario</th>\n",
       "      <th>victima_genero</th>\n",
       "      <th>victima_cantidad</th>\n",
       "      <th>agresor_cantidad</th>\n",
       "      <th>agresor_genero</th>\n",
       "      <th>agresor_relacion_victima</th>\n",
       "      <th>llamado_derivacion</th>\n",
       "      <th>llamado_fecha_hora</th>\n",
       "      <th>llamado_provincia</th>\n",
       "      <th>llamado_provincia_id</th>\n",
       "    </tr>\n",
       "    <tr>\n",
       "      <th>caso_id</th>\n",
       "      <th></th>\n",
       "      <th></th>\n",
       "      <th></th>\n",
       "      <th></th>\n",
       "      <th></th>\n",
       "      <th></th>\n",
       "      <th></th>\n",
       "      <th></th>\n",
       "      <th></th>\n",
       "      <th></th>\n",
       "      <th></th>\n",
       "      <th></th>\n",
       "      <th></th>\n",
       "      <th></th>\n",
       "      <th></th>\n",
       "    </tr>\n",
       "  </thead>\n",
       "  <tbody>\n",
       "    <tr>\n",
       "      <th>344552.0</th>\n",
       "      <td>Comisaría</td>\n",
       "      <td>Masculino</td>\n",
       "      <td>Otra/o no familiar</td>\n",
       "      <td>Física y psicológica</td>\n",
       "      <td>27</td>\n",
       "      <td>18 a 29 años</td>\n",
       "      <td>Femenino</td>\n",
       "      <td>3</td>\n",
       "      <td>1</td>\n",
       "      <td>Masculino</td>\n",
       "      <td>Pareja</td>\n",
       "      <td>La víctima no aceptó la intervención del Equip...</td>\n",
       "      <td>2017-01-01 01:37:00</td>\n",
       "      <td>Ciudad Autónoma de Buenos Aires</td>\n",
       "      <td>2</td>\n",
       "    </tr>\n",
       "    <tr>\n",
       "      <th>344553.0</th>\n",
       "      <td>Comisaría</td>\n",
       "      <td>Femenino</td>\n",
       "      <td>Sin datos</td>\n",
       "      <td>Física y psicológica</td>\n",
       "      <td>Sin dato</td>\n",
       "      <td>Sin dato</td>\n",
       "      <td>Femenino</td>\n",
       "      <td>2</td>\n",
       "      <td>1</td>\n",
       "      <td>Masculino</td>\n",
       "      <td>Hermano/a</td>\n",
       "      <td>Llamante solicitó información y/o orientación</td>\n",
       "      <td>2017-01-01 06:42:00</td>\n",
       "      <td>Ciudad Autónoma de Buenos Aires</td>\n",
       "      <td>2</td>\n",
       "    </tr>\n",
       "    <tr>\n",
       "      <th>344554.0</th>\n",
       "      <td>Víctima</td>\n",
       "      <td>Femenino</td>\n",
       "      <td>Madre</td>\n",
       "      <td>Física y psicológica</td>\n",
       "      <td>Sin dato</td>\n",
       "      <td>Sin dato</td>\n",
       "      <td>Femenino</td>\n",
       "      <td>1</td>\n",
       "      <td>1</td>\n",
       "      <td>Masculino</td>\n",
       "      <td>Pareja</td>\n",
       "      <td>Llamante solicitó información y/o orientación</td>\n",
       "      <td>2017-01-01 06:48:00</td>\n",
       "      <td>Ciudad Autónoma de Buenos Aires</td>\n",
       "      <td>2</td>\n",
       "    </tr>\n",
       "    <tr>\n",
       "      <th>344555.0</th>\n",
       "      <td>Víctima</td>\n",
       "      <td>Femenino</td>\n",
       "      <td>No hay niñas/os</td>\n",
       "      <td>Física y psicológica</td>\n",
       "      <td>Sin dato</td>\n",
       "      <td>Sin dato</td>\n",
       "      <td>Femenino</td>\n",
       "      <td>1</td>\n",
       "      <td>1</td>\n",
       "      <td>Masculino</td>\n",
       "      <td>Pareja</td>\n",
       "      <td>Llamante solicitó información y/o orientación</td>\n",
       "      <td>2017-01-01 06:54:00</td>\n",
       "      <td>Ciudad Autónoma de Buenos Aires</td>\n",
       "      <td>2</td>\n",
       "    </tr>\n",
       "    <tr>\n",
       "      <th>344556.0</th>\n",
       "      <td>Comisaría</td>\n",
       "      <td>Masculino</td>\n",
       "      <td>Otra/o no familiar</td>\n",
       "      <td>Psicológica</td>\n",
       "      <td>Sin dato</td>\n",
       "      <td>Sin dato</td>\n",
       "      <td>Masculino</td>\n",
       "      <td>1</td>\n",
       "      <td>1</td>\n",
       "      <td>Femenino</td>\n",
       "      <td>Madre</td>\n",
       "      <td>Llamante solicitó información y/o orientación</td>\n",
       "      <td>2017-01-01 07:11:00</td>\n",
       "      <td>Ciudad Autónoma de Buenos Aires</td>\n",
       "      <td>2</td>\n",
       "    </tr>\n",
       "  </tbody>\n",
       "</table>\n",
       "</div>"
      ],
      "text/plain": [
       "         llamante_descripcion llamante_genero  \\\n",
       "caso_id                                         \n",
       "344552.0            Comisaría       Masculino   \n",
       "344553.0            Comisaría        Femenino   \n",
       "344554.0              Víctima        Femenino   \n",
       "344555.0              Víctima        Femenino   \n",
       "344556.0            Comisaría       Masculino   \n",
       "\n",
       "         llamante_vinculo_ninios_presentes        violencia_tipo victima_edad  \\\n",
       "caso_id                                                                         \n",
       "344552.0                Otra/o no familiar  Física y psicológica           27   \n",
       "344553.0                         Sin datos  Física y psicológica     Sin dato   \n",
       "344554.0                             Madre  Física y psicológica     Sin dato   \n",
       "344555.0                   No hay niñas/os  Física y psicológica     Sin dato   \n",
       "344556.0                Otra/o no familiar           Psicológica     Sin dato   \n",
       "\n",
       "         victima_rango_etario victima_genero  victima_cantidad  \\\n",
       "caso_id                                                          \n",
       "344552.0         18 a 29 años       Femenino                 3   \n",
       "344553.0             Sin dato       Femenino                 2   \n",
       "344554.0             Sin dato       Femenino                 1   \n",
       "344555.0             Sin dato       Femenino                 1   \n",
       "344556.0             Sin dato      Masculino                 1   \n",
       "\n",
       "          agresor_cantidad agresor_genero agresor_relacion_victima  \\\n",
       "caso_id                                                              \n",
       "344552.0                 1      Masculino                   Pareja   \n",
       "344553.0                 1      Masculino                Hermano/a   \n",
       "344554.0                 1      Masculino                   Pareja   \n",
       "344555.0                 1      Masculino                   Pareja   \n",
       "344556.0                 1       Femenino                    Madre   \n",
       "\n",
       "                                         llamado_derivacion  \\\n",
       "caso_id                                                       \n",
       "344552.0  La víctima no aceptó la intervención del Equip...   \n",
       "344553.0      Llamante solicitó información y/o orientación   \n",
       "344554.0      Llamante solicitó información y/o orientación   \n",
       "344555.0      Llamante solicitó información y/o orientación   \n",
       "344556.0      Llamante solicitó información y/o orientación   \n",
       "\n",
       "          llamado_fecha_hora                llamado_provincia  \\\n",
       "caso_id                                                         \n",
       "344552.0 2017-01-01 01:37:00  Ciudad Autónoma de Buenos Aires   \n",
       "344553.0 2017-01-01 06:42:00  Ciudad Autónoma de Buenos Aires   \n",
       "344554.0 2017-01-01 06:48:00  Ciudad Autónoma de Buenos Aires   \n",
       "344555.0 2017-01-01 06:54:00  Ciudad Autónoma de Buenos Aires   \n",
       "344556.0 2017-01-01 07:11:00  Ciudad Autónoma de Buenos Aires   \n",
       "\n",
       "          llamado_provincia_id  \n",
       "caso_id                         \n",
       "344552.0                     2  \n",
       "344553.0                     2  \n",
       "344554.0                     2  \n",
       "344555.0                     2  \n",
       "344556.0                     2  "
      ]
     },
     "execution_count": 327,
     "metadata": {},
     "output_type": "execute_result"
    }
   ],
   "source": [
    "datos1=datos1.iloc[:,range(1,16,1)]\n",
    "datos1.head()"
   ]
  },
  {
   "cell_type": "markdown",
   "metadata": {},
   "source": [
    "# Identificación y retiro de datos faltantes"
   ]
  },
  {
   "cell_type": "code",
   "execution_count": 328,
   "metadata": {},
   "outputs": [
    {
     "data": {
      "text/plain": [
       "llamante_descripcion                  0\n",
       "llamante_genero                       0\n",
       "llamante_vinculo_ninios_presentes     0\n",
       "violencia_tipo                       20\n",
       "victima_edad                          0\n",
       "victima_rango_etario                  0\n",
       "victima_genero                        0\n",
       "victima_cantidad                      0\n",
       "agresor_cantidad                      0\n",
       "agresor_genero                        0\n",
       "agresor_relacion_victima              0\n",
       "llamado_derivacion                    0\n",
       "llamado_fecha_hora                    0\n",
       "llamado_provincia                     0\n",
       "llamado_provincia_id                  0\n",
       "dtype: int64"
      ]
     },
     "execution_count": 328,
     "metadata": {},
     "output_type": "execute_result"
    }
   ],
   "source": [
    "datos1.isnull().sum()"
   ]
  },
  {
   "cell_type": "code",
   "execution_count": 329,
   "metadata": {},
   "outputs": [],
   "source": [
    "datos1=datos1.dropna()"
   ]
  },
  {
   "cell_type": "markdown",
   "metadata": {},
   "source": [
    "**Se encontro 20 datos faltante pertenecientes a la variable tipo de violencia, posterior a identificarlos se procedio a eliminarlos.**"
   ]
  },
  {
   "cell_type": "markdown",
   "metadata": {},
   "source": [
    "# Retiro de datos pertenecientes a \" Sin dato\""
   ]
  },
  {
   "cell_type": "code",
   "execution_count": 330,
   "metadata": {},
   "outputs": [
    {
     "data": {
      "text/plain": [
       "Sin dato     12477\n",
       "Sin dato      2780\n",
       "30             665\n",
       "24             606\n",
       "23             601\n",
       "             ...  \n",
       "97               3\n",
       "98               3\n",
       "99               3\n",
       "101              3\n",
       "100              1\n",
       "Name: victima_edad, Length: 104, dtype: int64"
      ]
     },
     "execution_count": 330,
     "metadata": {},
     "output_type": "execute_result"
    }
   ],
   "source": [
    "datos1.victima_edad.value_counts()"
   ]
  },
  {
   "cell_type": "code",
   "execution_count": 331,
   "metadata": {},
   "outputs": [
    {
     "data": {
      "text/plain": [
       "(20426, 15)"
      ]
     },
     "execution_count": 331,
     "metadata": {},
     "output_type": "execute_result"
    }
   ],
   "source": [
    "datos2=datos1[datos1.victima_edad!=\"Sin dato\"]\n",
    "datos2=datos2[datos2.victima_edad!=\"Sin dato \"]\n",
    "datos2.shape"
   ]
  },
  {
   "cell_type": "markdown",
   "metadata": {},
   "source": [
    "**Se encontraron 15257 datos sin información, al ser casi la mitad de la base de datos se decide no imputar y se procede a eliminarlos, dejando en la base un total de 20446 resgistros.**"
   ]
  },
  {
   "cell_type": "markdown",
   "metadata": {},
   "source": [
    "## Duplicados"
   ]
  },
  {
   "cell_type": "code",
   "execution_count": 332,
   "metadata": {},
   "outputs": [
    {
     "data": {
      "text/plain": [
       "1771"
      ]
     },
     "execution_count": 332,
     "metadata": {},
     "output_type": "execute_result"
    }
   ],
   "source": [
    "datos2.index.duplicated().sum()"
   ]
  },
  {
   "cell_type": "code",
   "execution_count": 333,
   "metadata": {},
   "outputs": [
    {
     "data": {
      "text/plain": [
       "(18655, 15)"
      ]
     },
     "execution_count": 333,
     "metadata": {},
     "output_type": "execute_result"
    }
   ],
   "source": [
    "datos2=datos2[~datos2.index.duplicated()]\n",
    "datos2.shape"
   ]
  },
  {
   "cell_type": "markdown",
   "metadata": {},
   "source": [
    "**Se encontraron en la base 1771 datos duplicados, posterior a esto se retiraron dejandonos con 18655 registros**"
   ]
  },
  {
   "cell_type": "markdown",
   "metadata": {},
   "source": [
    "# Tratamiento y limpieza de base por columnas"
   ]
  },
  {
   "cell_type": "code",
   "execution_count": 334,
   "metadata": {},
   "outputs": [
    {
     "data": {
      "text/plain": [
       "Comisaría           8609\n",
       "Víctima             5340\n",
       "Familiar            2474\n",
       "Vecina/o             650\n",
       "Otra Institución     566\n",
       "Otro                 526\n",
       "Hospital             387\n",
       "NS/NC                 49\n",
       "Agresor/a             46\n",
       "Defensoría             8\n",
       "Name: llamante_descripcion, dtype: int64"
      ]
     },
     "execution_count": 334,
     "metadata": {},
     "output_type": "execute_result"
    }
   ],
   "source": [
    "# Decripción de la persona que realizo la llamada\n",
    "datos2.llamante_descripcion.replace({\"Otra institución\":\"Otra Institución\",\"Otro/a Particular\":\"Otro\", \"Otro/a particular\":\"Otro\", \"Otro/a\": \"Otro\"},inplace=True)\n",
    "datos2.llamante_descripcion.value_counts()"
   ]
  },
  {
   "cell_type": "code",
   "execution_count": 335,
   "metadata": {},
   "outputs": [
    {
     "data": {
      "text/plain": [
       "Otro/a no familiar    6503\n",
       "No hay niñas/os       5248\n",
       "Madre                 3259\n",
       "Otro familiar         1315\n",
       "Sin datos              776\n",
       "NS/NC                  646\n",
       "Padre                  581\n",
       "Hermano/o              182\n",
       "Hermano/a              137\n",
       "Padrastro                8\n",
       "Name: llamante_vinculo_ninios_presentes, dtype: int64"
      ]
     },
     "execution_count": 335,
     "metadata": {},
     "output_type": "execute_result"
    }
   ],
   "source": [
    "# Vinculos del llamante con la victima\n",
    "datos2.llamante_vinculo_ninios_presentes.replace({\"Hermano/a\":\"Hermano/o\",\"Otra/o no familiar\":\"Otro/a no familiar\",\"Otra/o familiar\":\"Otro familiar\",\"Hermana/o\":\"Hermano/a\"},inplace=True)\n",
    "datos2.llamante_vinculo_ninios_presentes.value_counts()"
   ]
  },
  {
   "cell_type": "code",
   "execution_count": 336,
   "metadata": {},
   "outputs": [
    {
     "data": {
      "text/plain": [
       "Física y psicológica                   12431\n",
       "Psicológica                             5332\n",
       "Económica, física y psicológica          371\n",
       "Económica y psicológica                  169\n",
       "Sexual y psicológica                     159\n",
       "Física, sexual y psicológica             137\n",
       "Otras                                     31\n",
       "Sexual, económica y psicológica           10\n",
       "No es un caso de Violencia Familiar        8\n",
       "No aplica                                  7\n",
       "Name: violencia_tipo, dtype: int64"
      ]
     },
     "execution_count": 336,
     "metadata": {},
     "output_type": "execute_result"
    }
   ],
   "source": [
    "# Tipo de violencia\n",
    "datos2.violencia_tipo.replace({\"Física, psicológica y económica\":\"Económica, física y psicológica\",\"no aplica\":\"No aplica\"},inplace=True)\n",
    "datos2.violencia_tipo.value_counts()"
   ]
  },
  {
   "cell_type": "code",
   "execution_count": 337,
   "metadata": {},
   "outputs": [
    {
     "data": {
      "text/plain": [
       "18 a 29 años      5782\n",
       "30 a 39 años      4292\n",
       "40 a 49 años      2740\n",
       "Más de 60 años    1649\n",
       "12 a 17 años      1414\n",
       "50 a 59 años      1128\n",
       "6 a 11 años        888\n",
       "0 a 5 años         762\n",
       "Name: victima_rango_etario, dtype: int64"
      ]
     },
     "execution_count": 337,
     "metadata": {},
     "output_type": "execute_result"
    }
   ],
   "source": [
    "# Rango de la edad de la victima\n",
    "datos2.victima_rango_etario.replace({\"06 a 11 años\":\"6 a 11 años\"},inplace=True)\n",
    "datos2.victima_rango_etario.value_counts()"
   ]
  },
  {
   "cell_type": "code",
   "execution_count": 338,
   "metadata": {},
   "outputs": [],
   "source": [
    "# Cantidad de victimas y cantidad agresores\n",
    "datos2=datos2[datos2.victima_cantidad!= 0]\n",
    "datos2=datos2[datos2.agresor_cantidad!= 0]\n",
    "datos2=datos2[datos2.agresor_cantidad!= 51]"
   ]
  },
  {
   "cell_type": "code",
   "execution_count": 339,
   "metadata": {},
   "outputs": [
    {
     "data": {
      "text/plain": [
       "Pareja                   7057\n",
       "Ex pareja                4738\n",
       "Madre                    1630\n",
       "Padre                    1409\n",
       "Hijo/a                   1331\n",
       "Hermano/a                 780\n",
       "Otro/a no conviviente     509\n",
       "Otro/a conviviente        357\n",
       "Padrastro                 325\n",
       "NS/NC                     313\n",
       "Abuelo/a                   73\n",
       "Name: agresor_relacion_victima, dtype: int64"
      ]
     },
     "execution_count": 339,
     "metadata": {},
     "output_type": "execute_result"
    }
   ],
   "source": [
    "# Relación del agresor con la victima\n",
    "datos2=datos2[datos2.agresor_relacion_victima!= 'Madrastra']\n",
    "datos2.agresor_relacion_victima.replace({\"Hermana/o\":\"Hermano/a\"},inplace=True)\n",
    "datos2.agresor_relacion_victima.value_counts()"
   ]
  },
  {
   "cell_type": "code",
   "execution_count": 340,
   "metadata": {},
   "outputs": [
    {
     "data": {
      "text/plain": [
       "Llamante solicitó información y/o orientación                             8748\n",
       "La víctima no aceptó la intervención del Equipo Móvil                     3912\n",
       "No se desplazó un  Equipo móvil por tratarse de un caso fuera de CABA     2163\n",
       "No había móviles y/o Equipos para realizar la intervención                1520\n",
       "Desplazamiento de un Equipo Móvil a donde se encontraba la/s víctima/s    1274\n",
       "Se planificó intervención para otro momento                                580\n",
       "Está interviniendo o se deriva a otra institución                          320\n",
       "Comunicación con Equipos Móviles                                             3\n",
       "Se trata de un conflicto familiar                                            2\n",
       "Name: llamado_derivacion, dtype: int64"
      ]
     },
     "execution_count": 340,
     "metadata": {},
     "output_type": "execute_result"
    }
   ],
   "source": [
    "# Información de la acciones tomadas luego de las llamadas\n",
    "datos2.llamado_derivacion.replace({\"Comunicación con los Equipos Móviles\":\"Comunicación con Equipos Móviles\"},inplace=True)\n",
    "datos2.llamado_derivacion.value_counts()"
   ]
  },
  {
   "cell_type": "markdown",
   "metadata": {},
   "source": [
    "**Se econtraron en algunas de la variables categoricas, problemas de coherencia y categorias que se repetian a causa de un carater de mas o problemas de espacios en la digitación, por lo tanto se procedio a unificar estas categorias y en otras quitarlas por ser datos atipicos.**"
   ]
  },
  {
   "cell_type": "code",
   "execution_count": 341,
   "metadata": {},
   "outputs": [
    {
     "data": {
      "text/plain": [
       "dtype('O')"
      ]
     },
     "execution_count": 341,
     "metadata": {},
     "output_type": "execute_result"
    }
   ],
   "source": [
    "datos2['llamado_fecha_hora'] = datos2['llamado_fecha_hora'].astype('str')\n",
    "datos2['llamado_fecha_hora'].dtype"
   ]
  },
  {
   "cell_type": "code",
   "execution_count": 342,
   "metadata": {},
   "outputs": [],
   "source": [
    "fe=pd.DataFrame(datos2[\"llamado_fecha_hora\"].str.split(' ',expand=True))"
   ]
  },
  {
   "cell_type": "code",
   "execution_count": 343,
   "metadata": {
    "scrolled": true
   },
   "outputs": [],
   "source": [
    "datos2[\"llamado_fecha\"]=fe.iloc[:,0]\n",
    "datos2[\"llamado_hora\"]=fe.iloc[:,1]"
   ]
  },
  {
   "cell_type": "code",
   "execution_count": 344,
   "metadata": {},
   "outputs": [],
   "source": [
    "datos2=datos2.drop([\"llamado_fecha_hora\"],axis=1)"
   ]
  },
  {
   "cell_type": "code",
   "execution_count": 447,
   "metadata": {},
   "outputs": [
    {
     "data": {
      "text/html": [
       "<div>\n",
       "<style scoped>\n",
       "    .dataframe tbody tr th:only-of-type {\n",
       "        vertical-align: middle;\n",
       "    }\n",
       "\n",
       "    .dataframe tbody tr th {\n",
       "        vertical-align: top;\n",
       "    }\n",
       "\n",
       "    .dataframe thead th {\n",
       "        text-align: right;\n",
       "    }\n",
       "</style>\n",
       "<table border=\"1\" class=\"dataframe\">\n",
       "  <thead>\n",
       "    <tr style=\"text-align: right;\">\n",
       "      <th></th>\n",
       "      <th>llamante_descripcion</th>\n",
       "      <th>llamante_genero</th>\n",
       "      <th>llamante_vinculo_ninios_presentes</th>\n",
       "      <th>violencia_tipo</th>\n",
       "      <th>victima_edad</th>\n",
       "      <th>victima_rango_etario</th>\n",
       "      <th>victima_genero</th>\n",
       "      <th>victima_cantidad</th>\n",
       "      <th>agresor_cantidad</th>\n",
       "      <th>agresor_genero</th>\n",
       "      <th>agresor_relacion_victima</th>\n",
       "      <th>llamado_derivacion</th>\n",
       "      <th>llamado_provincia</th>\n",
       "      <th>llamado_provincia_id</th>\n",
       "      <th>llamado_fecha</th>\n",
       "      <th>llamado_hora</th>\n",
       "      <th>Mes</th>\n",
       "    </tr>\n",
       "    <tr>\n",
       "      <th>caso_id</th>\n",
       "      <th></th>\n",
       "      <th></th>\n",
       "      <th></th>\n",
       "      <th></th>\n",
       "      <th></th>\n",
       "      <th></th>\n",
       "      <th></th>\n",
       "      <th></th>\n",
       "      <th></th>\n",
       "      <th></th>\n",
       "      <th></th>\n",
       "      <th></th>\n",
       "      <th></th>\n",
       "      <th></th>\n",
       "      <th></th>\n",
       "      <th></th>\n",
       "      <th></th>\n",
       "    </tr>\n",
       "  </thead>\n",
       "  <tbody>\n",
       "    <tr>\n",
       "      <th>344552.0</th>\n",
       "      <td>Comisaría</td>\n",
       "      <td>Masculino</td>\n",
       "      <td>Otro/a no familiar</td>\n",
       "      <td>Física y psicológica</td>\n",
       "      <td>27</td>\n",
       "      <td>18 a 29 años</td>\n",
       "      <td>Femenino</td>\n",
       "      <td>3</td>\n",
       "      <td>1</td>\n",
       "      <td>Masculino</td>\n",
       "      <td>Pareja</td>\n",
       "      <td>La víctima no aceptó la intervención del Equip...</td>\n",
       "      <td>Ciudad Autónoma de Buenos Aires</td>\n",
       "      <td>2</td>\n",
       "      <td>2017-01-01</td>\n",
       "      <td>01:37:00</td>\n",
       "      <td>1</td>\n",
       "    </tr>\n",
       "    <tr>\n",
       "      <th>344557.0</th>\n",
       "      <td>Comisaría</td>\n",
       "      <td>Masculino</td>\n",
       "      <td>Otro/a no familiar</td>\n",
       "      <td>Física y psicológica</td>\n",
       "      <td>35</td>\n",
       "      <td>30 a 39 años</td>\n",
       "      <td>Femenino</td>\n",
       "      <td>4</td>\n",
       "      <td>1</td>\n",
       "      <td>Masculino</td>\n",
       "      <td>Pareja</td>\n",
       "      <td>La víctima no aceptó la intervención del Equip...</td>\n",
       "      <td>Ciudad Autónoma de Buenos Aires</td>\n",
       "      <td>2</td>\n",
       "      <td>2017-01-01</td>\n",
       "      <td>07:23:00</td>\n",
       "      <td>1</td>\n",
       "    </tr>\n",
       "    <tr>\n",
       "      <th>344559.0</th>\n",
       "      <td>Comisaría</td>\n",
       "      <td>Masculino</td>\n",
       "      <td>Otro/a no familiar</td>\n",
       "      <td>Física y psicológica</td>\n",
       "      <td>25</td>\n",
       "      <td>18 a 29 años</td>\n",
       "      <td>Femenino</td>\n",
       "      <td>1</td>\n",
       "      <td>1</td>\n",
       "      <td>Masculino</td>\n",
       "      <td>Pareja</td>\n",
       "      <td>La víctima no aceptó la intervención del Equip...</td>\n",
       "      <td>Ciudad Autónoma de Buenos Aires</td>\n",
       "      <td>2</td>\n",
       "      <td>2017-01-01</td>\n",
       "      <td>07:38:00</td>\n",
       "      <td>1</td>\n",
       "    </tr>\n",
       "  </tbody>\n",
       "</table>\n",
       "</div>"
      ],
      "text/plain": [
       "         llamante_descripcion llamante_genero  \\\n",
       "caso_id                                         \n",
       "344552.0            Comisaría       Masculino   \n",
       "344557.0            Comisaría       Masculino   \n",
       "344559.0            Comisaría       Masculino   \n",
       "\n",
       "         llamante_vinculo_ninios_presentes        violencia_tipo victima_edad  \\\n",
       "caso_id                                                                         \n",
       "344552.0                Otro/a no familiar  Física y psicológica           27   \n",
       "344557.0                Otro/a no familiar  Física y psicológica           35   \n",
       "344559.0                Otro/a no familiar  Física y psicológica           25   \n",
       "\n",
       "         victima_rango_etario victima_genero  victima_cantidad  \\\n",
       "caso_id                                                          \n",
       "344552.0         18 a 29 años       Femenino                 3   \n",
       "344557.0         30 a 39 años       Femenino                 4   \n",
       "344559.0         18 a 29 años       Femenino                 1   \n",
       "\n",
       "          agresor_cantidad agresor_genero agresor_relacion_victima  \\\n",
       "caso_id                                                              \n",
       "344552.0                 1      Masculino                   Pareja   \n",
       "344557.0                 1      Masculino                   Pareja   \n",
       "344559.0                 1      Masculino                   Pareja   \n",
       "\n",
       "                                         llamado_derivacion  \\\n",
       "caso_id                                                       \n",
       "344552.0  La víctima no aceptó la intervención del Equip...   \n",
       "344557.0  La víctima no aceptó la intervención del Equip...   \n",
       "344559.0  La víctima no aceptó la intervención del Equip...   \n",
       "\n",
       "                        llamado_provincia  llamado_provincia_id llamado_fecha  \\\n",
       "caso_id                                                                         \n",
       "344552.0  Ciudad Autónoma de Buenos Aires                     2    2017-01-01   \n",
       "344557.0  Ciudad Autónoma de Buenos Aires                     2    2017-01-01   \n",
       "344559.0  Ciudad Autónoma de Buenos Aires                     2    2017-01-01   \n",
       "\n",
       "         llamado_hora  Mes  \n",
       "caso_id                     \n",
       "344552.0     01:37:00    1  \n",
       "344557.0     07:23:00    1  \n",
       "344559.0     07:38:00    1  "
      ]
     },
     "execution_count": 447,
     "metadata": {},
     "output_type": "execute_result"
    }
   ],
   "source": [
    "datos2.head(3)"
   ]
  },
  {
   "cell_type": "markdown",
   "metadata": {},
   "source": [
    "**Se procedio a separar la fecha y la hora de la variable 'llamado_fecha_hora' en dos columnas nombradas 'llamado_fecha' y 'llamado_hora' respectivamente.**"
   ]
  },
  {
   "cell_type": "markdown",
   "metadata": {},
   "source": [
    "# Visualización"
   ]
  },
  {
   "cell_type": "code",
   "execution_count": null,
   "metadata": {},
   "outputs": [],
   "source": [
    "datos2['llamado_fecha'] = pd.to_datetime(datos2['llamado_fecha'],format='%Y/%m/%d')\n",
    "datos2['llamado_fecha'].head()\n",
    "datos2['Mes'] = datos2['llamado_fecha'].dt.month "
   ]
  },
  {
   "cell_type": "code",
   "execution_count": null,
   "metadata": {},
   "outputs": [],
   "source": [
    "datos4=datos2\n",
    "datos4=datos4[datos4.victima_genero!= 'Transgénero']\n",
    "datos4=datos4[datos4.victima_genero!= 'NS/NC']\n",
    "datos4=datos4[datos4.violencia_tipo!= 'No aplica']\n",
    "datos4=datos4[datos4.violencia_tipo!= 'No es un caso de Violencia Familiar']"
   ]
  },
  {
   "cell_type": "code",
   "execution_count": null,
   "metadata": {},
   "outputs": [],
   "source": [
    "datos4.violencia_tipo.replace({\"Física, sexual y psicológica\":\"Sexual y psicológica\",\"Sexual, económica y psicológica\":\"Sexual y psicológica\"},inplace=True)\n",
    "datos4.violencia_tipo.value_counts()"
   ]
  },
  {
   "cell_type": "code",
   "execution_count": null,
   "metadata": {},
   "outputs": [],
   "source": [
    "datos4.agresor_relacion_victima.replace({\"Madre\":\"Padre/Madre\",\"Padre\":\"Padre/Madre\",\"Otro/a no conviviente\":\"Otro\",\"Otro/a conviviente\":\"Otro\"},inplace=True)\n",
    "datos4=datos4[datos4.agresor_relacion_victima!= 'NS/NC']"
   ]
  },
  {
   "cell_type": "code",
   "execution_count": 426,
   "metadata": {},
   "outputs": [
    {
     "data": {
      "text/html": [
       "<div>\n",
       "<style scoped>\n",
       "    .dataframe tbody tr th:only-of-type {\n",
       "        vertical-align: middle;\n",
       "    }\n",
       "\n",
       "    .dataframe tbody tr th {\n",
       "        vertical-align: top;\n",
       "    }\n",
       "\n",
       "    .dataframe thead th {\n",
       "        text-align: right;\n",
       "    }\n",
       "</style>\n",
       "<table border=\"1\" class=\"dataframe\">\n",
       "  <thead>\n",
       "    <tr style=\"text-align: right;\">\n",
       "      <th></th>\n",
       "      <th>label</th>\n",
       "      <th>counts</th>\n",
       "    </tr>\n",
       "  </thead>\n",
       "  <tbody>\n",
       "    <tr>\n",
       "      <th>0</th>\n",
       "      <td>Pareja</td>\n",
       "      <td>7011</td>\n",
       "    </tr>\n",
       "    <tr>\n",
       "      <th>1</th>\n",
       "      <td>Ex pareja</td>\n",
       "      <td>4715</td>\n",
       "    </tr>\n",
       "    <tr>\n",
       "      <th>2</th>\n",
       "      <td>Padre/Madre</td>\n",
       "      <td>2994</td>\n",
       "    </tr>\n",
       "    <tr>\n",
       "      <th>3</th>\n",
       "      <td>Hijo/a</td>\n",
       "      <td>1322</td>\n",
       "    </tr>\n",
       "    <tr>\n",
       "      <th>4</th>\n",
       "      <td>Otro</td>\n",
       "      <td>861</td>\n",
       "    </tr>\n",
       "    <tr>\n",
       "      <th>5</th>\n",
       "      <td>Hermano/a</td>\n",
       "      <td>769</td>\n",
       "    </tr>\n",
       "    <tr>\n",
       "      <th>6</th>\n",
       "      <td>Padrastro</td>\n",
       "      <td>322</td>\n",
       "    </tr>\n",
       "    <tr>\n",
       "      <th>7</th>\n",
       "      <td>Abuelo/a</td>\n",
       "      <td>73</td>\n",
       "    </tr>\n",
       "  </tbody>\n",
       "</table>\n",
       "</div>"
      ],
      "text/plain": [
       "         label  counts\n",
       "0       Pareja    7011\n",
       "1    Ex pareja    4715\n",
       "2  Padre/Madre    2994\n",
       "3       Hijo/a    1322\n",
       "4         Otro     861\n",
       "5    Hermano/a     769\n",
       "6    Padrastro     322\n",
       "7     Abuelo/a      73"
      ]
     },
     "execution_count": 426,
     "metadata": {},
     "output_type": "execute_result"
    }
   ],
   "source": [
    "tab4 = datos4['agresor_relacion_victima'].value_counts().rename_axis('label').reset_index(name='counts')\n",
    "tab4"
   ]
  },
  {
   "cell_type": "code",
   "execution_count": 451,
   "metadata": {},
   "outputs": [
    {
     "data": {
      "image/png": "[encoded data removed]",
      "text/plain": [
       "<Figure size 432x288 with 1 Axes>"
      ]
     },
     "metadata": {},
     "output_type": "display_data"
    }
   ],
   "source": [
    "import matplotlib.pyplot as plt\n",
    "from matplotlib import cm\n",
    "from math import log10\n",
    "\n",
    "\n",
    "\n",
    "labels = tab4['label']\n",
    "data = tab4['counts']\n",
    "#number of data points\n",
    "n = len(data)\n",
    "#find max value for full ring\n",
    "k = 10 ** int(log10(max(data)))\n",
    "m = k * (1 + max(data) // k)\n",
    "\n",
    "\n",
    "#radius of donut chart\n",
    "r = 2\n",
    "#calculate width of each ring\n",
    "w = r / n \n",
    "\n",
    "\n",
    "#create colors along a chosen colormap\n",
    "colors = [cm.terrain(i / n) for i in range(n)]\n",
    "\n",
    "#create figure, axis\n",
    "fig, ax = plt.subplots()\n",
    "ax.axis(\"equal\")\n",
    "\n",
    "\n",
    "#create rings of donut chart\n",
    "for i in range(n):\n",
    "    #hide labels in segments with textprops: alpha = 0 - transparent, alpha = 1 - visible\n",
    "    innerring, _ = ax.pie([m - data[i], \n",
    "                           data[i]], \n",
    "                          radius = r - i * w, \n",
    "                          startangle = 90, \n",
    "                          labels = [\"\", labels[i]], \n",
    "                          labeldistance = 1 - 1 / (1.5 * (n - i)), \n",
    "                          textprops = {\"alpha\": 0}, \n",
    "                          colors = [\"white\", colors[i]])\n",
    "    plt.setp(innerring, \n",
    "             width = w, \n",
    "             edgecolor = \"white\")\n",
    "    radius = r - i * w\n",
    "    plt.text(0, radius - w / 2, f'{labels[i]} – {data[i]} ', ha='right', va='center')\n",
    "        \n",
    "#plt.legend()\n",
    "plt.show()"
   ]
  },
  {
   "cell_type": "code",
   "execution_count": 449,
   "metadata": {},
   "outputs": [
    {
     "data": {
      "text/plain": [
       "<Figure size 1440x1080 with 0 Axes>"
      ]
     },
     "metadata": {},
     "output_type": "display_data"
    },
    {
     "data": {
      "image/png": "[encoded data removed]",
      "text/plain": [
       "<Figure size 910.5x360 with 2 Axes>"
      ]
     },
     "metadata": {
      "needs_background": "light"
     },
     "output_type": "display_data"
    }
   ],
   "source": [
    "fig=plt.figure(figsize = (20,15))\n",
    "fig=sns.catplot(data = datos4,\n",
    "            kind = \"bar\",\n",
    "            estimator = sum,\n",
    "            x = \"victima_cantidad\",\n",
    "            y = \"agresor_relacion_victima\",\n",
    "            hue = \"violencia_tipo\",\n",
    "            col = \"victima_genero\",\n",
    "            #palette = 'magma',\n",
    "            ci = None)"
   ]
  },
  {
   "cell_type": "markdown",
   "metadata": {},
   "source": [
    "## **¿Que?**"
   ]
  },
  {
   "cell_type": "markdown",
   "metadata": {},
   "source": [
    "El gráfico muestra la cantidad de victimas de violencia intrafamiliar desagredas por tres variables cualitativas, la primera correponde a la variable **victima_genero** la cual, cuenta con las categorias Femenino y Masculino, la segunda variable aquivale a **agresor_relacion_victima** la cual, presenta como categorias: Pareja, Hijo/a, Ex pareja, Padre/Madre, Hermano/a, Padrastro, Abuelo/a y otro, finalmente la ultima variable corresponde a **violencia_tipo** la cual tiene como catergorias Física y psicologica, Psicologica, Economica, Fisica y psicologica, Ecnomica y psicologica, Sexual y psicologica y otras. Por lo tanto se puede decir que el de dataset es de tipo tabla con datos estaticos, ya que cuenta con varios atributos e items los cuales representan los registros por  cada caso de violencia intrafamiliar.\n",
    "\n",
    "* Tipo de Dataset: Tabla\n",
    "\n",
    "* Tipos de datos: \n",
    "\n",
    " - items \n",
    " \n",
    " - Atributos cualitativos\n"
   ]
  },
  {
   "cell_type": "markdown",
   "metadata": {},
   "source": [
    "## **¿Por que?**"
   ]
  },
  {
   "cell_type": "markdown",
   "metadata": {},
   "source": [
    "La gráfica **analiza** y **explora**, ya que el proposito de la gráfica es **identificar** en que casos se da mas la violencia intrafamiliar, siendo el genero de la victima un variable cable, pues se puede observar que el mayor número de casos se presenta para el genero femenino, ademas de esto, la gráfica también nos muestra que la pareja es el vinculo entre victima y agresor más frecuente, es decir la que reporta mas casos con Fisica y psicologica como el tipo de violencia mas frecuente.\n",
    "\n",
    "Por otro lado el gráfico además de **identificar** tambien **compara** pues la gráfica al tener dos columnas logra el efecto de comparación que como ya se dijo anteriormente para este caso es el genero de la victima, el tipo de violencia y el vinculo del agresor con la victima. En los objetivos de la grafica podemos observar como atributo la distribución ya que la gráfica nos permite observar que caracteristicas presentan los datos, y de cierta forma tambien como se comportan. \n",
    "\n",
    "**1. Actions**\n",
    "\n",
    "* Analizar: \n",
    "\n",
    " - Consumir: Explorar\n",
    "\n",
    "* Especificas:\n",
    "\n",
    " - Buscar: lookup\n",
    " - Consulta: Identificar y comparar\n",
    "\n",
    "\n",
    "**2. Objetivos**\n",
    "\n",
    "* Atributos: Distribución"
   ]
  },
  {
   "cell_type": "markdown",
   "metadata": {},
   "source": [
    "## ¿Como?"
   ]
  },
  {
   "cell_type": "markdown",
   "metadata": {},
   "source": [
    "Se evidencia en la visualización que la información se **codifica** de forma **alineada** ya que la información esta presentada en el eje y de forma alineada y ordenada con respecto a la mayor cantidad de víctimas, de esta forma se tendrá mejores comparaciones visualmente.\n",
    "\n",
    "1. Codificar\n",
    "\n",
    " * Organización: Alineada\n",
    " \n",
    " * Map: Color (matiz)"
   ]
  },
  {
   "cell_type": "markdown",
   "metadata": {},
   "source": [
    "## Marcas y Canales"
   ]
  },
  {
   "cell_type": "markdown",
   "metadata": {},
   "source": [
    "La marca para este gráfico son las líneas, estas se observan tanto eje vertical y horizontal como en la representación de la variable cuantitativa **víctima_ cantidad** que nos da la cantidad de víctimas de violencia intrafamiliar con respecto a las variables categóricas, por otro lado las marcas presentadas son la posición, tamaño y color, esta marca permite identificar y diferenciar en el grafico la categorias de cada variable.\n",
    "\n",
    "1. Marca\n",
    "\n",
    " * Marca de linea\n",
    " \n",
    "2. Canal\n",
    " \n",
    " * Posición: Canal de posición espacial horizontal para el atributo cuantitativo y vertical para el atributo categórico\n",
    " \n",
    " * Tamaño : Largo de la marca\n",
    " \n",
    " * Color: Canal de color para cada categoria de la tercera variable categorica **violencia_tipo**."
   ]
  }
 ],
 "metadata": {
  "kernelspec": {
   "display_name": "Python 3",
   "language": "python",
   "name": "python3"
  },
  "language_info": {
   "codemirror_mode": {
    "name": "ipython",
    "version": 3
   },
   "file_extension": ".py",
   "mimetype": "text/x-python",
   "name": "python",
   "nbconvert_exporter": "python",
   "pygments_lexer": "ipython3",
   "version": "3.8.5"
  }
 },
 "nbformat": 4,
 "nbformat_minor": 4
}
